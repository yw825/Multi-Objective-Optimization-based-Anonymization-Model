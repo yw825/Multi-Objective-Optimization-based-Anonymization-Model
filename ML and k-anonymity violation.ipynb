{
 "cells": [
  {
   "cell_type": "code",
   "execution_count": null,
   "id": "5bcb0531-3f11-4d2c-9d56-6cc49e15d6a0",
   "metadata": {},
   "outputs": [],
   "source": [
    "import pandas as pd\n",
    "import numpy as np\n",
    "import os\n",
    "import glob\n",
    "from sklearn.preprocessing import LabelEncoder\n",
    "from sklearn.model_selection import train_test_split\n",
    "from sklearn.tree import DecisionTreeClassifier\n",
    "from sklearn.ensemble import RandomForestClassifier\n",
    "from sklearn.naive_bayes import GaussianNB\n",
    "from sklearn.neural_network import MLPClassifier\n",
    "from sklearn.svm import SVC\n",
    "from sklearn.linear_model import LogisticRegression\n",
    "from sklearn.linear_model import SGDClassifier\n",
    "from sklearn.metrics import accuracy_score, classification_report, confusion_matrix, precision_score, recall_score\n",
    "import seaborn as sns\n",
    "import matplotlib.pyplot as plt\n",
    "from scipy.stats import ttest_rel, wilcoxon, shapiro\n",
    "from sklearn.model_selection import GridSearchCV\n",
    "import gc\n",
    "import itertools\n",
    "from sklearn.utils import resample\n",
    "import ast\n",
    "import json\n",
    "import re\n",
    "\n",
    "import utils \n",
    "import model_train\n",
    "from constants import *\n",
    "import particle_swarm\n",
    "\n",
    "%load_ext autoreload\n",
    "%autoreload 2"
   ]
  },
  {
   "cell_type": "code",
   "execution_count": null,
   "id": "3da01e64-ce2a-4ee1-a784-5f76ceac1b4b",
   "metadata": {},
   "outputs": [],
   "source": [
    "# List of file paths\n",
    "df = pd.read_csv(\"/PATH/data.csv\")\n",
    "df"
   ]
  },
  {
   "cell_type": "code",
   "execution_count": null,
   "id": "18fb473b-295f-483d-ac79-a6b78d6091e0",
   "metadata": {},
   "outputs": [],
   "source": [
    "df = utils.data_prep(df)\n",
    "\n",
    "bounds = utils.get_nqi_bounds(df, NQIs)\n",
    "levels = utils.get_cqi_levels(df, CQIs)\n",
    "nqi_means = df[NQIs].mean()"
   ]
  },
  {
   "cell_type": "code",
   "execution_count": null,
   "id": "d2c1cb7c",
   "metadata": {},
   "outputs": [],
   "source": [
    "# Define a list of ML models\n",
    "models = [\n",
    "    #(\"RF\",RandomForestClassifier(criterion='entropy', random_state=42)),\n",
    "    #(\"DT\",DecisionTreeClassifier(criterion='entropy', random_state=42)),\n",
    "    (\"LR\",LogisticRegression(solver='lbfgs', max_iter=1000,random_state=42,n_jobs=-1)),\n",
    "    # (\"NB\",GaussianNB()),\n",
    "    #(\"SVM\",SGDClassifier(loss='hinge',n_jobs=-1,max_iter=1000,random_state=42)),\n",
    "    #(\"NN\",MLPClassifier(random_state=42))   \n",
    "]"
   ]
  },
  {
   "cell_type": "code",
   "execution_count": null,
   "id": "923b6b57",
   "metadata": {},
   "outputs": [],
   "source": [
    "# Define the dictionary with all parameter values\n",
    "parameters_dic = {'gamma': [1],\n",
    "                  'k': [20],\n",
    "                  'n_cluster': [50],\n",
    "                  # 'l_multi_IL': [1],\n",
    "                  'l_multi_k': [0],\n",
    "                  'l_multi_ML': [1] # np.linspace(0, 1, 200)\n",
    "                  }\n",
    "\n",
    "# Generate all combinations of parameters using itertools.product\n",
    "param_combinations = list(itertools.product(*parameters_dic.values()))"
   ]
  },
  {
   "cell_type": "code",
   "execution_count": null,
   "id": "e6bb44ca",
   "metadata": {},
   "outputs": [],
   "source": [
    "results = particle_swarm.run_particle_swarm_experiment(\n",
    "    df=df, \n",
    "    models=models, \n",
    "    param_combinations=param_combinations, \n",
    "    NQIs=NQIs, \n",
    "    CQIs=CQIs, \n",
    "    n_population=100,\n",
    "    maxIter=100,\n",
    "    n_bootstrap=1,\n",
    "    bounds=bounds, \n",
    "    levels=levels, \n",
    "    nqi_means=nqi_means, \n",
    "    filedirectory=\"/PATH/Folder\"\n",
    ")"
   ]
  },
  {
   "cell_type": "code",
   "execution_count": null,
   "id": "cfedd173",
   "metadata": {},
   "outputs": [],
   "source": [
    "results"
   ]
  },
  {
   "cell_type": "code",
   "execution_count": null,
   "id": "b7377341",
   "metadata": {},
   "outputs": [],
   "source": [
    "# save the results to a file\n",
    "results_df = pd.DataFrame(results)\n",
    "filedirectory = '/PATH/FOLDER'\n",
    "filename = f\"results.csv\"\n",
    "filename = os.path.join(filedirectory, filename)\n",
    "results_df.to_csv(filename, index=False)\n",
    "        "
   ]
  },
  {
   "cell_type": "code",
   "execution_count": null,
   "id": "4d5648aa",
   "metadata": {},
   "outputs": [],
   "source": [
    "results_df = pd.read_csv(\"/PATH/FOLDER/results.csv\")"
   ]
  },
  {
   "cell_type": "code",
   "execution_count": null,
   "id": "3a350d93",
   "metadata": {},
   "outputs": [],
   "source": [
    "utils.plot_metric_trend_with_mean(results_df, 'Entropy-Loss', 'Average Entropy Loss')"
   ]
  },
  {
   "cell_type": "code",
   "execution_count": null,
   "id": "d0b4a986",
   "metadata": {},
   "outputs": [],
   "source": []
  }
 ],
 "metadata": {
  "kernelspec": {
   "display_name": "Python 3",
   "language": "python",
   "name": "python3"
  },
  "language_info": {
   "codemirror_mode": {
    "name": "ipython",
    "version": 3
   },
   "file_extension": ".py",
   "mimetype": "text/x-python",
   "name": "python",
   "nbconvert_exporter": "python",
   "pygments_lexer": "ipython3",
   "version": "3.11.11"
  }
 },
 "nbformat": 4,
 "nbformat_minor": 5
}
